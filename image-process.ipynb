{
 "cells": [
  {
   "cell_type": "code",
   "execution_count": 1,
   "metadata": {},
   "outputs": [
    {
     "name": "stdout",
     "output_type": "stream",
     "text": [
      "['ay_02.jpg', 'ay_08.jpg', 'ay_09.jpg', 'ay_10.jpg', 'ay_13.jpg', 'ay_17.jpg']\n"
     ]
    }
   ],
   "source": [
    "import os\n",
    "file_path = './images/2019/'\n",
    "file_names = os.listdir(file_path)\n",
    "print(file_names)\n"
   ]
  }
 ],
 "metadata": {
  "kernelspec": {
   "display_name": "compress",
   "language": "python",
   "name": "python3"
  },
  "language_info": {
   "codemirror_mode": {
    "name": "ipython",
    "version": 3
   },
   "file_extension": ".py",
   "mimetype": "text/x-python",
   "name": "python",
   "nbconvert_exporter": "python",
   "pygments_lexer": "ipython3",
   "version": "3.9.15"
  },
  "orig_nbformat": 4
 },
 "nbformat": 4,
 "nbformat_minor": 2
}
