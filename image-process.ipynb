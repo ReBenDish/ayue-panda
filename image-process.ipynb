{
 "cells": [
  {
   "cell_type": "code",
   "execution_count": 12,
   "metadata": {},
   "outputs": [
    {
     "name": "stdout",
     "output_type": "stream",
     "text": [
      "['img-16296087574081a93264001e2b1285b2b6d4cd9db94e8.jpg', 'IMG_20230101_104204.jpg', 'IMG_20230101_173033.jpg', 'IMG_20230513_171617.jpg', 'IMG_20230513_171635.jpg', 'IMG_20230519_110730.jpg', 'mmexport1672565557617.jpg', 'mmexport1682255691005.jpg', 'mmexport1684332552787.jpg', 'mmexport1691303344124.jpg', 'mmexport1691649897003.jpg', 'mmexport1691932933285.jpg', 'mmexport1692464263903.jpg', 'mmexport1692464266402.jpg', 'mmexport1692491544193.jpg', 'mmexport1693212484317.jpg', 'mmexport1693657304134.jpg', 'mmexport1693657329660.jpg', 'mmexport1696502033643.jpg', 'mmexport1696516536261.jpg', 'mmexport1696599088769.jpg', 'mmexport1696741766190.jpg', 'mmexport1696741767634.jpg', 'mmexport1697080746731.jpg', 'mmexport1697379292091.jpg', 'mmexport1697905232731.jpg', 'mmexport1698568723750.jpg', 'mmexport1700364653125.jpg', 'mmexport1700364658239.jpg', 'mmexport1700364662572.jpg', 'mmexport1700364672294.jpg', 'mmexport1700364676901.jpg', 'Screenshot_2023-08-28-07-36-24-431_com.tencent.mm.jpg', 'shengqi 2.jpg', '微信图片_20230101141125.jpg', '微信图片_20240101011527.jpg', '微信图片_20240101011542.jpg', '微信图片_20240101011546.jpg', '微信图片_20240101011548.jpg', '微信图片_20240101141103.jpg', '微信图片_20240101141110.jpg', '微信图片_20240101141113.jpg', '微信图片_20240101141116.jpg', '微信图片_20240101141119.jpg', '微信图片_20240101141122.jpg']\n",
      "['IMG_20230101_104204.jpg', 'IMG_20230513_171635.jpg', 'mmexport1672565557617.jpg', 'mmexport1684332552787.jpg', 'mmexport1691303344124.jpg', 'mmexport1692491544193.jpg', 'mmexport1696502033643.jpg', 'mmexport1696599088769.jpg', 'mmexport1696741766190.jpg', 'mmexport1700364672294.jpg', 'Screenshot_2023-08-28-07-36-24-431_com.tencent.mm.jpg', '微信图片_20240101011548.jpg', '微信图片_20240101141110.jpg']\n"
     ]
    },
    {
     "data": {
      "text/plain": [
       "13"
      ]
     },
     "execution_count": 12,
     "metadata": {},
     "output_type": "execute_result"
    }
   ],
   "source": [
    "import os\n",
    "file_path = './images/ayue/2023/'\n",
    "file_names = os.listdir(file_path)\n",
    "print(file_names)\n",
    "len(file_names)\n",
    "\n",
    "file_path = './images/2023/'\n",
    "file_names = os.listdir(file_path)\n",
    "print(file_names)\n",
    "len(file_names)\n",
    "\n"
   ]
  }
 ],
 "metadata": {
  "kernelspec": {
   "display_name": "compress",
   "language": "python",
   "name": "python3"
  },
  "language_info": {
   "codemirror_mode": {
    "name": "ipython",
    "version": 3
   },
   "file_extension": ".py",
   "mimetype": "text/x-python",
   "name": "python",
   "nbconvert_exporter": "python",
   "pygments_lexer": "ipython3",
   "version": "3.9.15"
  },
  "orig_nbformat": 4
 },
 "nbformat": 4,
 "nbformat_minor": 2
}
